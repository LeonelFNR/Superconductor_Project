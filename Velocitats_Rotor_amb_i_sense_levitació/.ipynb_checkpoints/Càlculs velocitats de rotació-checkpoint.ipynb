{
 "cells": [
  {
   "cell_type": "markdown",
   "id": "093e26ec-0ff8-4caf-a0a5-6c5c216e0847",
   "metadata": {},
   "source": [
    "# Càlcul velocitats de rotació del rotor, amb i sense levitació i guany energètic"
   ]
  },
  {
   "cell_type": "markdown",
   "id": "3d70bb18-5a28-4d18-8fe3-15e187c49c8b",
   "metadata": {},
   "source": [
    "Importació llibreries essencials"
   ]
  },
  {
   "cell_type": "code",
   "execution_count": 22,
   "id": "f3ad68a0-a9a0-485d-bd93-2fd4d27ae13e",
   "metadata": {},
   "outputs": [],
   "source": [
    "import matplotlib.pyplot as plt\n",
    "import numpy as np\n",
    "import pandas as pd\n",
    "import seaborn as sns"
   ]
  },
  {
   "cell_type": "markdown",
   "id": "1618f00f-6f99-4fa8-aa5e-bfbc5e64d86c",
   "metadata": {},
   "source": [
    "Procedim al tractament de dades: consisteix a promitjar les tres mesures realitzades i pel mètode de mesura (veure informe) dividir per 3 el resultat."
   ]
  },
  {
   "cell_type": "code",
   "execution_count": 23,
   "id": "132cc5e3-2459-447e-af22-5ba00bdc36f1",
   "metadata": {},
   "outputs": [
    {
     "data": {
      "text/html": [
       "<div>\n",
       "<style scoped>\n",
       "    .dataframe tbody tr th:only-of-type {\n",
       "        vertical-align: middle;\n",
       "    }\n",
       "\n",
       "    .dataframe tbody tr th {\n",
       "        vertical-align: top;\n",
       "    }\n",
       "\n",
       "    .dataframe thead th {\n",
       "        text-align: right;\n",
       "    }\n",
       "</style>\n",
       "<table border=\"1\" class=\"dataframe\">\n",
       "  <thead>\n",
       "    <tr style=\"text-align: right;\">\n",
       "      <th></th>\n",
       "      <th>Levitació</th>\n",
       "      <th>Potència</th>\n",
       "      <th>Mesura 1 (rpm)</th>\n",
       "      <th>Mesura 2 (rpm)</th>\n",
       "      <th>Mesura 3 (rpm)</th>\n",
       "    </tr>\n",
       "  </thead>\n",
       "  <tbody>\n",
       "    <tr>\n",
       "      <th>0</th>\n",
       "      <td>0</td>\n",
       "      <td>1</td>\n",
       "      <td>264</td>\n",
       "      <td>268</td>\n",
       "      <td>260</td>\n",
       "    </tr>\n",
       "    <tr>\n",
       "      <th>1</th>\n",
       "      <td>0</td>\n",
       "      <td>2</td>\n",
       "      <td>345</td>\n",
       "      <td>350</td>\n",
       "      <td>349</td>\n",
       "    </tr>\n",
       "    <tr>\n",
       "      <th>2</th>\n",
       "      <td>0</td>\n",
       "      <td>3</td>\n",
       "      <td>422</td>\n",
       "      <td>436</td>\n",
       "      <td>420</td>\n",
       "    </tr>\n",
       "    <tr>\n",
       "      <th>3</th>\n",
       "      <td>1</td>\n",
       "      <td>1</td>\n",
       "      <td>489</td>\n",
       "      <td>465</td>\n",
       "      <td>462</td>\n",
       "    </tr>\n",
       "    <tr>\n",
       "      <th>4</th>\n",
       "      <td>1</td>\n",
       "      <td>2</td>\n",
       "      <td>648</td>\n",
       "      <td>939</td>\n",
       "      <td>579</td>\n",
       "    </tr>\n",
       "    <tr>\n",
       "      <th>5</th>\n",
       "      <td>1</td>\n",
       "      <td>3</td>\n",
       "      <td>825</td>\n",
       "      <td>831</td>\n",
       "      <td>825</td>\n",
       "    </tr>\n",
       "  </tbody>\n",
       "</table>\n",
       "</div>"
      ],
      "text/plain": [
       "   Levitació  Potència  Mesura 1 (rpm)  Mesura 2 (rpm)  Mesura 3 (rpm)\n",
       "0          0         1             264             268             260\n",
       "1          0         2             345             350             349\n",
       "2          0         3             422             436             420\n",
       "3          1         1             489             465             462\n",
       "4          1         2             648             939             579\n",
       "5          1         3             825             831             825"
      ]
     },
     "execution_count": 23,
     "metadata": {},
     "output_type": "execute_result"
    }
   ],
   "source": [
    "data = pd.read_csv(\"Velocitats_Rotor.csv\", delimiter = \";\")\n",
    "data = pd.DataFrame(data)\n",
    "data"
   ]
  },
  {
   "cell_type": "code",
   "execution_count": 24,
   "id": "85d181da-0784-46cc-a0cd-ad0c65720bf8",
   "metadata": {},
   "outputs": [
    {
     "data": {
      "text/html": [
       "<div>\n",
       "<style scoped>\n",
       "    .dataframe tbody tr th:only-of-type {\n",
       "        vertical-align: middle;\n",
       "    }\n",
       "\n",
       "    .dataframe tbody tr th {\n",
       "        vertical-align: top;\n",
       "    }\n",
       "\n",
       "    .dataframe thead th {\n",
       "        text-align: right;\n",
       "    }\n",
       "</style>\n",
       "<table border=\"1\" class=\"dataframe\">\n",
       "  <thead>\n",
       "    <tr style=\"text-align: right;\">\n",
       "      <th></th>\n",
       "      <th>Levitació</th>\n",
       "      <th>Potència</th>\n",
       "      <th>Mesura 1 (rpm)</th>\n",
       "      <th>Mesura 2 (rpm)</th>\n",
       "      <th>Mesura 3 (rpm)</th>\n",
       "      <th>Velocitat Rotació Promig triple (rpm)</th>\n",
       "    </tr>\n",
       "  </thead>\n",
       "  <tbody>\n",
       "    <tr>\n",
       "      <th>0</th>\n",
       "      <td>0</td>\n",
       "      <td>1</td>\n",
       "      <td>264</td>\n",
       "      <td>268</td>\n",
       "      <td>260</td>\n",
       "      <td>264.0</td>\n",
       "    </tr>\n",
       "    <tr>\n",
       "      <th>1</th>\n",
       "      <td>0</td>\n",
       "      <td>2</td>\n",
       "      <td>345</td>\n",
       "      <td>350</td>\n",
       "      <td>349</td>\n",
       "      <td>348.0</td>\n",
       "    </tr>\n",
       "    <tr>\n",
       "      <th>2</th>\n",
       "      <td>0</td>\n",
       "      <td>3</td>\n",
       "      <td>422</td>\n",
       "      <td>436</td>\n",
       "      <td>420</td>\n",
       "      <td>426.0</td>\n",
       "    </tr>\n",
       "    <tr>\n",
       "      <th>3</th>\n",
       "      <td>1</td>\n",
       "      <td>1</td>\n",
       "      <td>489</td>\n",
       "      <td>465</td>\n",
       "      <td>462</td>\n",
       "      <td>472.0</td>\n",
       "    </tr>\n",
       "    <tr>\n",
       "      <th>4</th>\n",
       "      <td>1</td>\n",
       "      <td>2</td>\n",
       "      <td>648</td>\n",
       "      <td>939</td>\n",
       "      <td>579</td>\n",
       "      <td>722.0</td>\n",
       "    </tr>\n",
       "    <tr>\n",
       "      <th>5</th>\n",
       "      <td>1</td>\n",
       "      <td>3</td>\n",
       "      <td>825</td>\n",
       "      <td>831</td>\n",
       "      <td>825</td>\n",
       "      <td>827.0</td>\n",
       "    </tr>\n",
       "  </tbody>\n",
       "</table>\n",
       "</div>"
      ],
      "text/plain": [
       "   Levitació  Potència  Mesura 1 (rpm)  Mesura 2 (rpm)  Mesura 3 (rpm)  \\\n",
       "0          0         1             264             268             260   \n",
       "1          0         2             345             350             349   \n",
       "2          0         3             422             436             420   \n",
       "3          1         1             489             465             462   \n",
       "4          1         2             648             939             579   \n",
       "5          1         3             825             831             825   \n",
       "\n",
       "   Velocitat Rotació Promig triple (rpm)  \n",
       "0                                  264.0  \n",
       "1                                  348.0  \n",
       "2                                  426.0  \n",
       "3                                  472.0  \n",
       "4                                  722.0  \n",
       "5                                  827.0  "
      ]
     },
     "execution_count": 24,
     "metadata": {},
     "output_type": "execute_result"
    }
   ],
   "source": [
    "data[\"Velocitat Rotació Promig triple (rpm)\"] = data.iloc[:,2:5].mean(axis = 1)\n",
    "data"
   ]
  },
  {
   "cell_type": "code",
   "execution_count": 25,
   "id": "8f6a028f-f4de-47fe-96f7-cd28988ff3c0",
   "metadata": {},
   "outputs": [
    {
     "data": {
      "text/html": [
       "<div>\n",
       "<style scoped>\n",
       "    .dataframe tbody tr th:only-of-type {\n",
       "        vertical-align: middle;\n",
       "    }\n",
       "\n",
       "    .dataframe tbody tr th {\n",
       "        vertical-align: top;\n",
       "    }\n",
       "\n",
       "    .dataframe thead th {\n",
       "        text-align: right;\n",
       "    }\n",
       "</style>\n",
       "<table border=\"1\" class=\"dataframe\">\n",
       "  <thead>\n",
       "    <tr style=\"text-align: right;\">\n",
       "      <th></th>\n",
       "      <th>Levitació</th>\n",
       "      <th>Potència</th>\n",
       "      <th>Mesura 1 (rpm)</th>\n",
       "      <th>Mesura 2 (rpm)</th>\n",
       "      <th>Mesura 3 (rpm)</th>\n",
       "      <th>Velocitat Rotació Promig triple (rpm)</th>\n",
       "      <th>Velocitat de Rotació (rpm)</th>\n",
       "    </tr>\n",
       "  </thead>\n",
       "  <tbody>\n",
       "    <tr>\n",
       "      <th>0</th>\n",
       "      <td>0</td>\n",
       "      <td>1</td>\n",
       "      <td>264</td>\n",
       "      <td>268</td>\n",
       "      <td>260</td>\n",
       "      <td>264.0</td>\n",
       "      <td>88.000000</td>\n",
       "    </tr>\n",
       "    <tr>\n",
       "      <th>1</th>\n",
       "      <td>0</td>\n",
       "      <td>2</td>\n",
       "      <td>345</td>\n",
       "      <td>350</td>\n",
       "      <td>349</td>\n",
       "      <td>348.0</td>\n",
       "      <td>116.000000</td>\n",
       "    </tr>\n",
       "    <tr>\n",
       "      <th>2</th>\n",
       "      <td>0</td>\n",
       "      <td>3</td>\n",
       "      <td>422</td>\n",
       "      <td>436</td>\n",
       "      <td>420</td>\n",
       "      <td>426.0</td>\n",
       "      <td>142.000000</td>\n",
       "    </tr>\n",
       "    <tr>\n",
       "      <th>3</th>\n",
       "      <td>1</td>\n",
       "      <td>1</td>\n",
       "      <td>489</td>\n",
       "      <td>465</td>\n",
       "      <td>462</td>\n",
       "      <td>472.0</td>\n",
       "      <td>157.333333</td>\n",
       "    </tr>\n",
       "    <tr>\n",
       "      <th>4</th>\n",
       "      <td>1</td>\n",
       "      <td>2</td>\n",
       "      <td>648</td>\n",
       "      <td>939</td>\n",
       "      <td>579</td>\n",
       "      <td>722.0</td>\n",
       "      <td>240.666667</td>\n",
       "    </tr>\n",
       "    <tr>\n",
       "      <th>5</th>\n",
       "      <td>1</td>\n",
       "      <td>3</td>\n",
       "      <td>825</td>\n",
       "      <td>831</td>\n",
       "      <td>825</td>\n",
       "      <td>827.0</td>\n",
       "      <td>275.666667</td>\n",
       "    </tr>\n",
       "  </tbody>\n",
       "</table>\n",
       "</div>"
      ],
      "text/plain": [
       "   Levitació  Potència  Mesura 1 (rpm)  Mesura 2 (rpm)  Mesura 3 (rpm)  \\\n",
       "0          0         1             264             268             260   \n",
       "1          0         2             345             350             349   \n",
       "2          0         3             422             436             420   \n",
       "3          1         1             489             465             462   \n",
       "4          1         2             648             939             579   \n",
       "5          1         3             825             831             825   \n",
       "\n",
       "   Velocitat Rotació Promig triple (rpm)  Velocitat de Rotació (rpm)  \n",
       "0                                  264.0                   88.000000  \n",
       "1                                  348.0                  116.000000  \n",
       "2                                  426.0                  142.000000  \n",
       "3                                  472.0                  157.333333  \n",
       "4                                  722.0                  240.666667  \n",
       "5                                  827.0                  275.666667  "
      ]
     },
     "execution_count": 25,
     "metadata": {},
     "output_type": "execute_result"
    }
   ],
   "source": [
    "data[\"Velocitat de Rotació (rpm)\"] = data[\"Velocitat Rotació Promig triple (rpm)\"]/3\n",
    "data"
   ]
  },
  {
   "cell_type": "markdown",
   "id": "0615fa91-efc7-48c1-b31a-6c2f558c8408",
   "metadata": {},
   "source": [
    "Creació gràfica de barres amb resum de la informació recollida per comparació qualitativa"
   ]
  },
  {
   "cell_type": "code",
   "execution_count": 37,
   "id": "34abc93d-2df3-46e9-ae8f-b737d9cc4be9",
   "metadata": {},
   "outputs": [],
   "source": [
    "data[\"Levitació\"] = data[\"Levitació\"].replace({0: \"No\", 1: \"Sí\"})"
   ]
  },
  {
   "cell_type": "code",
   "execution_count": 40,
   "id": "dcc822f0-d8d3-4e50-97d5-3f0d84293f78",
   "metadata": {},
   "outputs": [
    {
     "data": {
      "image/png": "[encoded data removed]",
      "text/plain": [
       "<Figure size 1000x600 with 1 Axes>"
      ]
     },
     "metadata": {},
     "output_type": "display_data"
    }
   ],
   "source": [
    "plt.figure(figsize = (10,6))\n",
    "sns.barplot(x='Potència', y = 'Velocitat de Rotació (rpm)', hue = 'Levitació', data = data, palette = 'deep')\n",
    "plt.xlabel('Potència')\n",
    "plt.ylabel('Velocitat de rotació (rpm)')\n",
    "plt.title('Velocitat de Rotació vs Potència, amb i sense Levitació')\n",
    "plt.savefig('Comparació velocitat rotació rotor amb i sense levitació')\n",
    "plt.show()"
   ]
  },
  {
   "cell_type": "markdown",
   "id": "1b2b1a55-d418-4704-bbc7-462b6858cf9a",
   "metadata": {},
   "source": [
    "# Càlcul guany energètic"
   ]
  },
  {
   "cell_type": "markdown",
   "id": "f7147d29-f0bf-4ab6-b0da-f947979f0a36",
   "metadata": {},
   "source": [
    "Importarem una dada experimental, el moment d'inèrica del rotor."
   ]
  },
  {
   "cell_type": "code",
   "execution_count": 52,
   "id": "8d9e9e12-3e44-43d3-ae1a-94761163adc2",
   "metadata": {},
   "outputs": [],
   "source": [
    "I = 1.099*10**(-3)"
   ]
  },
  {
   "cell_type": "markdown",
   "id": "6caa35ca-a293-44ad-b3d3-971051b7d723",
   "metadata": {},
   "source": [
    "Per derterminar l'energia cinètica, primer necessitem tenir les velocitats de rotació en unitats del SI. Un cop ho tinguem, farem servir l'expressió $E_c = \\frac{1}{2} I \\omega^2$ per determinar l'energia."
   ]
  },
  {
   "cell_type": "code",
   "execution_count": 53,
   "id": "f6966af2-1e28-43b1-868d-39bca0a99192",
   "metadata": {
    "scrolled": true
   },
   "outputs": [
    {
     "data": {
      "text/html": [
       "<div>\n",
       "<style scoped>\n",
       "    .dataframe tbody tr th:only-of-type {\n",
       "        vertical-align: middle;\n",
       "    }\n",
       "\n",
       "    .dataframe tbody tr th {\n",
       "        vertical-align: top;\n",
       "    }\n",
       "\n",
       "    .dataframe thead th {\n",
       "        text-align: right;\n",
       "    }\n",
       "</style>\n",
       "<table border=\"1\" class=\"dataframe\">\n",
       "  <thead>\n",
       "    <tr style=\"text-align: right;\">\n",
       "      <th></th>\n",
       "      <th>Levitació</th>\n",
       "      <th>Potència</th>\n",
       "      <th>Mesura 1 (rpm)</th>\n",
       "      <th>Mesura 2 (rpm)</th>\n",
       "      <th>Mesura 3 (rpm)</th>\n",
       "      <th>Velocitat Rotació Promig triple (rpm)</th>\n",
       "      <th>Velocitat de Rotació (rpm)</th>\n",
       "      <th>Velocitat rotor rad/s</th>\n",
       "      <th>Ec (J)</th>\n",
       "    </tr>\n",
       "  </thead>\n",
       "  <tbody>\n",
       "    <tr>\n",
       "      <th>0</th>\n",
       "      <td>No</td>\n",
       "      <td>1</td>\n",
       "      <td>264</td>\n",
       "      <td>268</td>\n",
       "      <td>260</td>\n",
       "      <td>264.0</td>\n",
       "      <td>88.000000</td>\n",
       "      <td>9.215338</td>\n",
       "      <td>0.046665</td>\n",
       "    </tr>\n",
       "    <tr>\n",
       "      <th>1</th>\n",
       "      <td>No</td>\n",
       "      <td>2</td>\n",
       "      <td>345</td>\n",
       "      <td>350</td>\n",
       "      <td>349</td>\n",
       "      <td>348.0</td>\n",
       "      <td>116.000000</td>\n",
       "      <td>12.147492</td>\n",
       "      <td>0.081085</td>\n",
       "    </tr>\n",
       "    <tr>\n",
       "      <th>2</th>\n",
       "      <td>No</td>\n",
       "      <td>3</td>\n",
       "      <td>422</td>\n",
       "      <td>436</td>\n",
       "      <td>420</td>\n",
       "      <td>426.0</td>\n",
       "      <td>142.000000</td>\n",
       "      <td>14.870205</td>\n",
       "      <td>0.121507</td>\n",
       "    </tr>\n",
       "    <tr>\n",
       "      <th>3</th>\n",
       "      <td>Sí</td>\n",
       "      <td>1</td>\n",
       "      <td>489</td>\n",
       "      <td>465</td>\n",
       "      <td>462</td>\n",
       "      <td>472.0</td>\n",
       "      <td>157.333333</td>\n",
       "      <td>16.475908</td>\n",
       "      <td>0.149165</td>\n",
       "    </tr>\n",
       "    <tr>\n",
       "      <th>4</th>\n",
       "      <td>Sí</td>\n",
       "      <td>2</td>\n",
       "      <td>648</td>\n",
       "      <td>939</td>\n",
       "      <td>579</td>\n",
       "      <td>722.0</td>\n",
       "      <td>240.666667</td>\n",
       "      <td>25.202554</td>\n",
       "      <td>0.349025</td>\n",
       "    </tr>\n",
       "    <tr>\n",
       "      <th>5</th>\n",
       "      <td>Sí</td>\n",
       "      <td>3</td>\n",
       "      <td>825</td>\n",
       "      <td>831</td>\n",
       "      <td>825</td>\n",
       "      <td>827.0</td>\n",
       "      <td>275.666667</td>\n",
       "      <td>28.867746</td>\n",
       "      <td>0.457924</td>\n",
       "    </tr>\n",
       "  </tbody>\n",
       "</table>\n",
       "</div>"
      ],
      "text/plain": [
       "  Levitació  Potència  Mesura 1 (rpm)  Mesura 2 (rpm)  Mesura 3 (rpm)  \\\n",
       "0        No         1             264             268             260   \n",
       "1        No         2             345             350             349   \n",
       "2        No         3             422             436             420   \n",
       "3        Sí         1             489             465             462   \n",
       "4        Sí         2             648             939             579   \n",
       "5        Sí         3             825             831             825   \n",
       "\n",
       "   Velocitat Rotació Promig triple (rpm)  Velocitat de Rotació (rpm)  \\\n",
       "0                                  264.0                   88.000000   \n",
       "1                                  348.0                  116.000000   \n",
       "2                                  426.0                  142.000000   \n",
       "3                                  472.0                  157.333333   \n",
       "4                                  722.0                  240.666667   \n",
       "5                                  827.0                  275.666667   \n",
       "\n",
       "   Velocitat rotor rad/s    Ec (J)  \n",
       "0               9.215338  0.046665  \n",
       "1              12.147492  0.081085  \n",
       "2              14.870205  0.121507  \n",
       "3              16.475908  0.149165  \n",
       "4              25.202554  0.349025  \n",
       "5              28.867746  0.457924  "
      ]
     },
     "execution_count": 53,
     "metadata": {},
     "output_type": "execute_result"
    }
   ],
   "source": [
    "data['Velocitat rotor rad/s'] = data['Velocitat de Rotació (rpm)']*2*np.pi/60\n",
    "data['Ec (J)'] = 0.5*I*data['Velocitat rotor rad/s']**2\n",
    "data"
   ]
  },
  {
   "cell_type": "markdown",
   "id": "ab44cb55-3938-4a7f-918d-d72e4306bf5c",
   "metadata": {},
   "source": [
    "Donat que tenim una quantitat baixa de mesures, surt més a compte comparar manualment els valors."
   ]
  },
  {
   "cell_type": "code",
   "execution_count": 69,
   "id": "33c97a10-c5a0-46ea-b4da-bd4931003cb6",
   "metadata": {},
   "outputs": [
    {
     "data": {
      "text/plain": [
       "Potència\n",
       "1    219.651056\n",
       "2    330.443255\n",
       "3    276.870220\n",
       "Name: Ec (J), dtype: float64"
      ]
     },
     "execution_count": 69,
     "metadata": {},
     "output_type": "execute_result"
    }
   ],
   "source": [
    "lev_si = data[data[\"Levitació\"] == \"Sí\"].set_index(\"Potència\")\n",
    "lev_no = data[data[\"Levitació\"] == \"No\"].set_index(\"Potència\")\n",
    "guany = (lev_si['Ec (J)'] - lev_no['Ec (J)']) / lev_no['Ec (J)'] *100\n",
    "guany"
   ]
  },
  {
   "cell_type": "code",
   "execution_count": 75,
   "id": "9378b4c6-a298-4293-88bf-487df4197fd9",
   "metadata": {},
   "outputs": [
    {
     "name": "stdout",
     "output_type": "stream",
     "text": [
      "\\begin{tabular}{lrrrrrrrr}\n",
      "\\toprule\n",
      "Levitació & Potència & Mesura 1 (rpm) & Mesura 2 (rpm) & Mesura 3 (rpm) & Velocitat Rotació Promig triple (rpm) & Velocitat de Rotació (rpm) & Velocitat rotor rad/s & Ec (J) \\\\\n",
      "\\midrule\n",
      "No & 1 & 264 & 268 & 260 & 264.000000 & 88.000000 & 9.215338 & 0.046665 \\\\\n",
      "No & 2 & 345 & 350 & 349 & 348.000000 & 116.000000 & 12.147492 & 0.081085 \\\\\n",
      "No & 3 & 422 & 436 & 420 & 426.000000 & 142.000000 & 14.870205 & 0.121507 \\\\\n",
      "Sí & 1 & 489 & 465 & 462 & 472.000000 & 157.333333 & 16.475908 & 0.149165 \\\\\n",
      "Sí & 2 & 648 & 939 & 579 & 722.000000 & 240.666667 & 25.202554 & 0.349025 \\\\\n",
      "Sí & 3 & 825 & 831 & 825 & 827.000000 & 275.666667 & 28.867746 & 0.457924 \\\\\n",
      "\\bottomrule\n",
      "\\end{tabular}\n",
      "\n"
     ]
    }
   ],
   "source": [
    "print(data.to_latex(index=False))"
   ]
  },
  {
   "cell_type": "code",
   "execution_count": null,
   "id": "4edbde7f-938f-4e49-9af6-a92b803bc5ed",
   "metadata": {},
   "outputs": [],
   "source": []
  }
 ],
 "metadata": {
  "kernelspec": {
   "display_name": "Python 3 (ipykernel)",
   "language": "python",
   "name": "python3"
  },
  "language_info": {
   "codemirror_mode": {
    "name": "ipython",
    "version": 3
   },
   "file_extension": ".py",
   "mimetype": "text/x-python",
   "name": "python",
   "nbconvert_exporter": "python",
   "pygments_lexer": "ipython3",
   "version": "3.10.12"
  }
 },
 "nbformat": 4,
 "nbformat_minor": 5
}
